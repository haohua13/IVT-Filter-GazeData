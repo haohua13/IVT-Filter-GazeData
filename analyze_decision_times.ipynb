{
 "cells": [
  {
   "cell_type": "markdown",
   "metadata": {},
   "source": [
    "### Decision Time of Human-AI Decision / Human Decision - By Reliance Groups and XAI condition"
   ]
  },
  {
   "cell_type": "code",
   "execution_count": 1,
   "metadata": {},
   "outputs": [],
   "source": [
    "import pandas as pd\n",
    "\n",
    "reliance_data = pd.read_csv('gaze_data/reliance_groups/groups.csv')\n",
    "\n",
    "# remove 'O23' or user == 'OX30' from the dataset\n",
    "reliance_data = reliance_data[~reliance_data['ID'].isin(['O23', 'OX30'])]\n",
    "\n",
    "time_data = pd.read_csv('mushroom_data/task-times-by-decision.csv')\n",
    "\n",
    "# human-ai decision time is (end_human_ai_decision - end_human_decision_time)\n",
    "# human decision time is (end_human_decision_time - feedback)\n",
    "\n",
    "\n",
    "                        \n",
    "\n",
    "\n"
   ]
  }
 ],
 "metadata": {
  "kernelspec": {
   "display_name": "Python 3",
   "language": "python",
   "name": "python3"
  },
  "language_info": {
   "codemirror_mode": {
    "name": "ipython",
    "version": 3
   },
   "file_extension": ".py",
   "mimetype": "text/x-python",
   "name": "python",
   "nbconvert_exporter": "python",
   "pygments_lexer": "ipython3",
   "version": "3.10.11"
  }
 },
 "nbformat": 4,
 "nbformat_minor": 2
}
