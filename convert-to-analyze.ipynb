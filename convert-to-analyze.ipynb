{
 "cells": [
  {
   "cell_type": "markdown",
   "metadata": {},
   "source": [
    "### Interval Data (Proportion and Probability) by XAI Conditions for SPSS analysis"
   ]
  },
  {
   "cell_type": "code",
   "execution_count": 1,
   "metadata": {},
   "outputs": [],
   "source": [
    "import pandas as pd\n",
    "import numpy as np\n",
    "\n",
    "def get_XAI(idd):\n",
    "    if 'X' in idd:\n",
    "        return 1\n",
    "    else:\n",
    "        return 0\n",
    "\n",
    "def get_spss_data(tracker_results):\n",
    "    tracker_results['XAI_value'] = tracker_results['ID'].apply(get_XAI)\n",
    "    # calculate 'elmo_probability' and handle division by zero or infinite results\n",
    "    tracker_results['elmo_probability'] = np.where(\n",
    "        tracker_results['fixation_counts'] == 0, \n",
    "        0, # if there are no fixations in computer screen, the probability is 0 (invalid)\n",
    "        tracker_results['fixation_counts_elmo'] / tracker_results['fixation_counts']\n",
    "    )\n",
    "\n",
    "    # calculate 'elmo_proportion' and handle division by zero or infinite results\n",
    "    tracker_results['elmo_proportion'] = np.where(\n",
    "        tracker_results['fixation_durations'] == 0, \n",
    "        0, # if there are no fixations in computer screen, the proportion is 0 (invalid)\n",
    "        tracker_results['fixation_durations_elmo'] / tracker_results['fixation_durations']\n",
    "    )\n",
    "\n",
    "interval_data = pd.read_csv('mushroom_data/interval_data_by_tasks_with_average_durations.csv')\n",
    "get_spss_data(interval_data)\n",
    "interval_data.to_csv('mushroom_data/final_interval_data_spss.csv', index=False)\n",
    "\n",
    "interval_data_xai = pd.read_csv('mushroom_data/interval_data_XAI_removed.csv')\n",
    "get_spss_data(interval_data_xai)\n",
    "interval_data_xai.to_csv('mushroom_data/final_interval_data_XAI_removed_spss.csv', index=False)\n"
   ]
  },
  {
   "cell_type": "markdown",
   "metadata": {},
   "source": [
    "### Interval Data By Trust Phases for SPSS analysis\n"
   ]
  },
  {
   "cell_type": "code",
   "execution_count": 2,
   "metadata": {},
   "outputs": [],
   "source": [
    "# interval_data = pd.read_csv('mushroom_data/final_interval_data_spss.csv')\n",
    "\n",
    "interval_data = pd.read_csv('mushroom_data/final_interval_data_XAI_removed_spss.csv')\n",
    "# phase 1 = early trust build, phase 2 = early trust recovery, phase 3 = late trust recovery, phase 4 = ending effect\n",
    "# Tasks 1-5 \n",
    "# check if task is 1 to 5, then create a new column with 0 \n",
    "interval_data['phase'] = np.where(interval_data['task'].isin([1,2,3,4,5]), 0, 1)\n",
    "# Tasks 6-10\n",
    "# check if task is 6 to 10, then create a new column with 1\n",
    "interval_data['phase'] = np.where(interval_data['task'].isin([6,7,8,9,10]), 1, interval_data['phase'])\n",
    "# Tasks 11-13\n",
    "# check if task is 11 to 13, then create a new column with 2\n",
    "interval_data['phase'] = np.where(interval_data['task'].isin([11,12,13]), 2, interval_data['phase'])\n",
    "# Tasks 14-15\n",
    "# check if task is 14 to 15, then create a new column with 3\n",
    "interval_data['phase'] = np.where(interval_data['task'].isin([14,15]), 3, interval_data['phase'])\n",
    "\n",
    "# tasks 0 and -1 (irrelevant tasks)\n",
    "interval_data['phase'] = np.where(interval_data['task'].isin([0, -1]), 4, interval_data['phase'])\n",
    "# save the data \n",
    "interval_data.to_csv('mushroom_data/interval_data_XAI_removed_spss.csv', index=False)"
   ]
  },
  {
   "cell_type": "markdown",
   "metadata": {},
   "source": [
    "### Add all reliance data"
   ]
  },
  {
   "cell_type": "code",
   "execution_count": 19,
   "metadata": {},
   "outputs": [],
   "source": [
    "# 0 underreliance and no XAI\n",
    "# 11 no underreliance and no XAI\n",
    "# 1 underreliance and XAI\n",
    "# 10 no underreliance and XAI\n",
    "\n",
    "# 2 overreliance and no XAI\n",
    "# 12 no overreliance and no XAI\n",
    "# 3 overreliance and XAI\n",
    "# 13 no overreliance and XAI\n",
    "\n",
    "# 4 reliance and no XAI\n",
    "# 14 no reliance and no XAI\n",
    "# 5 reliance and XAI\n",
    "# 15 no reliance and XAI\n",
    "\n",
    "underreliance = pd.read_csv('gaze_data/reliance_groups/under_reliance_global.csv')\n",
    "underreliance[\"condition\"] = underreliance[\"condition_underreliance\"]\n",
    "\n",
    "overreliance = pd.read_csv('gaze_data/reliance_groups/over_reliance_global.csv')\n",
    "\n",
    "# convert to spss format\n",
    "def get_overreliance(condition):\n",
    "    if condition == 0:\n",
    "        return 2\n",
    "    elif condition == 1:\n",
    "        return 3\n",
    "    elif condition == 10:\n",
    "        return 12\n",
    "    elif condition == 11:\n",
    "        return 13\n",
    "\n",
    "def get_reliance(condition):\n",
    "    if condition == 0:\n",
    "        return 4\n",
    "    elif condition == 1:\n",
    "        return 5\n",
    "    elif condition == 10:\n",
    "        return 14\n",
    "    elif condition == 11:\n",
    "        return 15\n",
    "\n",
    "overreliance[\"condition\"] = overreliance[\"condition_overreliance\"].apply(get_overreliance)\n",
    "\n",
    "reliance = pd.read_csv('gaze_data/reliance_groups/reliance_global.csv')\n",
    "reliance[\"condition\"] = reliance[\"condition_reliance\"].apply(get_reliance)\n",
    "\n",
    "global_results = pd.concat([underreliance, overreliance, reliance])\n",
    "global_results[\"proportion_elmo\"] = global_results[\"fixation_durations_elmo\"] / global_results[\"fixation_durations\"]\n",
    "global_results[\"probability_elmo\"] = global_results[\"fixation_counts_elmo\"] / global_results[\"fixation_counts\"]\n",
    "# save global results\n",
    "global_results.to_csv('gaze_data/reliance_groups/reliance_global_results.csv', index=False)\n"
   ]
  }
 ],
 "metadata": {
  "kernelspec": {
   "display_name": "Python 3",
   "language": "python",
   "name": "python3"
  },
  "language_info": {
   "codemirror_mode": {
    "name": "ipython",
    "version": 3
   },
   "file_extension": ".py",
   "mimetype": "text/x-python",
   "name": "python",
   "nbconvert_exporter": "python",
   "pygments_lexer": "ipython3",
   "version": "3.10.11"
  }
 },
 "nbformat": 4,
 "nbformat_minor": 2
}
