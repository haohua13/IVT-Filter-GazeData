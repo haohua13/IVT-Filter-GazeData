{
 "cells": [
  {
   "cell_type": "markdown",
   "metadata": {},
   "source": [
    "### Global Data (Proportion and Probability) by XAI Conditions for SPSS analysis - tracker_results"
   ]
  },
  {
   "cell_type": "code",
   "execution_count": 17,
   "metadata": {},
   "outputs": [],
   "source": [
    "import pandas as pd\n",
    "import numpy as np\n",
    "\n",
    "def get_XAI(idd):\n",
    "    if 'X' in idd:\n",
    "        return 1\n",
    "    else:\n",
    "        return 0\n",
    "    \n",
    "def get_spss_global_data(tracker_results):\n",
    "    tracker_results['XAI_value'] = tracker_results['ID'].apply(get_XAI)\n",
    "    tracker_results['elmo_probability'] = \\\n",
    "    tracker_results['elmo_fixation_count'] / tracker_results['computer_fixation_count']\n",
    "\n",
    "    tracker_results['elmo_proportion'] = \\\n",
    "    tracker_results['elmo_average_fixation_duration'] / tracker_results['computer_average_fixation_duration']\n",
    "    return tracker_results\n",
    "\n",
    "global_results = pd.read_csv('eye-tracker/tracker_results-by-xai-duration.csv')\n",
    "global_results = get_spss_global_data(global_results)\n",
    "global_results.to_csv('eye-tracker/final_tracker_results-global-results_spss.csv', index=False)\n"
   ]
  },
  {
   "cell_type": "markdown",
   "metadata": {},
   "source": [
    "### Interval Data Global Results Human-AI Decision for SPSS analysis\n"
   ]
  },
  {
   "cell_type": "code",
   "execution_count": 2,
   "metadata": {},
   "outputs": [],
   "source": [
    "import pandas as pd\n",
    "interval_data_xai = pd.read_csv('eye-tracker/interval_data-XAI-removed.csv') # XAI removed data\n",
    "interval_data_global = pd.read_csv('eye-tracker/interval_data-by-decision.csv') # Global data\n",
    "def get_XAI(idd):\n",
    "    if 'X' in idd:\n",
    "        return 1\n",
    "    else:\n",
    "        return 0\n",
    "def get_spss_data(tracker_results):\n",
    "    tracker_results['XAI_value'] = tracker_results['ID'].apply(get_XAI)\n",
    "interval_data_xai.to_csv('eye-tracker/interval_data-XAI-removed.csv', index=False)\n",
    "interval_data_global.to_csv('eye-tracker/interval_data-by-decision.csv', index=False)\n",
    "interval_data_xai_no_tutorial = interval_data_xai[interval_data_xai['task'] > 0] # remove tutorial task\n",
    "interval_data_global_no_tutorial = interval_data_global[interval_data_global['task'] > 0] # remove tutorial task\n",
    "interval_data_xai_no_tutorial.to_csv('eye-tracker/interval_data-XAI-removed-no-tutorial.csv', index=False)\n",
    "interval_data_global_no_tutorial.to_csv('eye-tracker/interval_data-by-decision-no-tutorial.csv', index=False)\n"
   ]
  },
  {
   "cell_type": "markdown",
   "metadata": {},
   "source": [
    "### Interval Data Just Human-AI Decision (XAI Removed) for SPSS analysis"
   ]
  },
  {
   "cell_type": "code",
   "execution_count": 3,
   "metadata": {},
   "outputs": [],
   "source": [
    "interval_data = pd.read_csv('eye-tracker/interval_data-XAI-removed-no-tutorial.csv')\n",
    "# If same task, remove the first row and keep the last row\n",
    "interval_data = interval_data.drop_duplicates(subset=['task', 'ID'], keep='last')\n",
    "interval_data.to_csv('eye-tracker/interval_data-final-decision.csv', index=False)\n"
   ]
  },
  {
   "cell_type": "markdown",
   "metadata": {},
   "source": [
    "### Interval Data By Trust Phases for SPSS analysis\n"
   ]
  },
  {
   "cell_type": "code",
   "execution_count": 15,
   "metadata": {},
   "outputs": [],
   "source": [
    "# interval_data = pd.read_csv('mushroom_data/final_interval_data_spss.csv')\n",
    "# interval_data = pd.read_csv('eye-tracker/final_interval_data_XAI_no_tutorial_spss.csv')\n",
    "\n",
    "interval_data = pd.read_csv('eye-tracker/interval_data_XAI_human_ai_decision_spss.csv')\n",
    "# phase 1 = early trust build, phase 2 = early trust recovery, phase 3 = late trust recovery, phase 4 = ending effect\n",
    "# Tasks 1-5 \n",
    "# check if task is 1 to 5, then create a new column with 0 \n",
    "interval_data['phase'] = np.where(interval_data['task'].isin([1,2,3,4,5]), 0, 1)\n",
    "# Tasks 6-10\n",
    "# check if task is 6 to 10, then create a new column with 1\n",
    "interval_data['phase'] = np.where(interval_data['task'].isin([6,7,8,9,10]), 1, interval_data['phase'])\n",
    "# Tasks 11-13\n",
    "# check if task is 11 to 13, then create a new column with 2\n",
    "interval_data['phase'] = np.where(interval_data['task'].isin([11,12,13]), 2, interval_data['phase'])\n",
    "# Tasks 14-15\n",
    "# check if task is 14 to 15, then create a new column with 3\n",
    "interval_data['phase'] = np.where(interval_data['task'].isin([14,15]), 3, interval_data['phase'])\n",
    "\n",
    "# tasks 0 and -1 (irrelevant tasks)\n",
    "interval_data['phase'] = np.where(interval_data['task'].isin([0, -1]), 4, interval_data['phase'])\n",
    "# save the data \n",
    "interval_data.to_csv('eye-tracker/interval_data_just_human_ai_decision_spss.csv', index=False)"
   ]
  },
  {
   "cell_type": "markdown",
   "metadata": {},
   "source": [
    "### Decision Time By Decision Groups"
   ]
  },
  {
   "cell_type": "code",
   "execution_count": 11,
   "metadata": {},
   "outputs": [],
   "source": [
    "import pandas as pd\n",
    "import numpy as np\n",
    "\n",
    "data = pd.read_csv('behavioral/global_decision_times_decision_groups.csv')\n",
    "\n",
    "# remove all \"undefined\" by replacing them with None\n",
    "data = data.replace('undefined', None)\n",
    "# convert all columns to numeric\n",
    "data = data.apply(pd.to_numeric, errors='ignore')\n",
    "\n",
    "# save data\n",
    "data.to_csv('behavioral/test1.csv', index=False)\n"
   ]
  },
  {
   "cell_type": "markdown",
   "metadata": {},
   "source": [
    "### Analyze Probability and Proportion by Decision Groups "
   ]
  },
  {
   "cell_type": "code",
   "execution_count": 7,
   "metadata": {},
   "outputs": [
    {
     "name": "stderr",
     "output_type": "stream",
     "text": [
      "C:\\Users\\haohu\\AppData\\Local\\Temp\\ipykernel_22136\\3360242308.py:8: SettingWithCopyWarning: \n",
      "A value is trying to be set on a copy of a slice from a DataFrame.\n",
      "Try using .loc[row_indexer,col_indexer] = value instead\n",
      "\n",
      "See the caveats in the documentation: https://pandas.pydata.org/pandas-docs/stable/user_guide/indexing.html#returning-a-view-versus-a-copy\n",
      "  tracker_results['fixation_counts_elmo'] = np.where(tracker_results['fixation_counts_elmo'] == 0, 1, tracker_results['fixation_counts_elmo'])\n",
      "C:\\Users\\haohu\\AppData\\Local\\Temp\\ipykernel_22136\\3360242308.py:10: SettingWithCopyWarning: \n",
      "A value is trying to be set on a copy of a slice from a DataFrame.\n",
      "Try using .loc[row_indexer,col_indexer] = value instead\n",
      "\n",
      "See the caveats in the documentation: https://pandas.pydata.org/pandas-docs/stable/user_guide/indexing.html#returning-a-view-versus-a-copy\n",
      "  tracker_results['probability_elmo'] = tracker_results['fixation_counts_elmo'] / tracker_results['fixation_counts']\n",
      "C:\\Users\\haohu\\AppData\\Local\\Temp\\ipykernel_22136\\3360242308.py:13: SettingWithCopyWarning: \n",
      "A value is trying to be set on a copy of a slice from a DataFrame.\n",
      "Try using .loc[row_indexer,col_indexer] = value instead\n",
      "\n",
      "See the caveats in the documentation: https://pandas.pydata.org/pandas-docs/stable/user_guide/indexing.html#returning-a-view-versus-a-copy\n",
      "  tracker_results['proportion_elmo'] = tracker_results['fixation_durations_elmo'] / tracker_results['fixation_durations']\n",
      "C:\\Users\\haohu\\AppData\\Local\\Temp\\ipykernel_22136\\3360242308.py:8: SettingWithCopyWarning: \n",
      "A value is trying to be set on a copy of a slice from a DataFrame.\n",
      "Try using .loc[row_indexer,col_indexer] = value instead\n",
      "\n",
      "See the caveats in the documentation: https://pandas.pydata.org/pandas-docs/stable/user_guide/indexing.html#returning-a-view-versus-a-copy\n",
      "  tracker_results['fixation_counts_elmo'] = np.where(tracker_results['fixation_counts_elmo'] == 0, 1, tracker_results['fixation_counts_elmo'])\n",
      "C:\\Users\\haohu\\AppData\\Local\\Temp\\ipykernel_22136\\3360242308.py:10: SettingWithCopyWarning: \n",
      "A value is trying to be set on a copy of a slice from a DataFrame.\n",
      "Try using .loc[row_indexer,col_indexer] = value instead\n",
      "\n",
      "See the caveats in the documentation: https://pandas.pydata.org/pandas-docs/stable/user_guide/indexing.html#returning-a-view-versus-a-copy\n",
      "  tracker_results['probability_elmo'] = tracker_results['fixation_counts_elmo'] / tracker_results['fixation_counts']\n",
      "C:\\Users\\haohu\\AppData\\Local\\Temp\\ipykernel_22136\\3360242308.py:13: SettingWithCopyWarning: \n",
      "A value is trying to be set on a copy of a slice from a DataFrame.\n",
      "Try using .loc[row_indexer,col_indexer] = value instead\n",
      "\n",
      "See the caveats in the documentation: https://pandas.pydata.org/pandas-docs/stable/user_guide/indexing.html#returning-a-view-versus-a-copy\n",
      "  tracker_results['proportion_elmo'] = tracker_results['fixation_durations_elmo'] / tracker_results['fixation_durations']\n",
      "C:\\Users\\haohu\\AppData\\Local\\Temp\\ipykernel_22136\\3360242308.py:8: SettingWithCopyWarning: \n",
      "A value is trying to be set on a copy of a slice from a DataFrame.\n",
      "Try using .loc[row_indexer,col_indexer] = value instead\n",
      "\n",
      "See the caveats in the documentation: https://pandas.pydata.org/pandas-docs/stable/user_guide/indexing.html#returning-a-view-versus-a-copy\n",
      "  tracker_results['fixation_counts_elmo'] = np.where(tracker_results['fixation_counts_elmo'] == 0, 1, tracker_results['fixation_counts_elmo'])\n",
      "C:\\Users\\haohu\\AppData\\Local\\Temp\\ipykernel_22136\\3360242308.py:10: SettingWithCopyWarning: \n",
      "A value is trying to be set on a copy of a slice from a DataFrame.\n",
      "Try using .loc[row_indexer,col_indexer] = value instead\n",
      "\n",
      "See the caveats in the documentation: https://pandas.pydata.org/pandas-docs/stable/user_guide/indexing.html#returning-a-view-versus-a-copy\n",
      "  tracker_results['probability_elmo'] = tracker_results['fixation_counts_elmo'] / tracker_results['fixation_counts']\n",
      "C:\\Users\\haohu\\AppData\\Local\\Temp\\ipykernel_22136\\3360242308.py:13: SettingWithCopyWarning: \n",
      "A value is trying to be set on a copy of a slice from a DataFrame.\n",
      "Try using .loc[row_indexer,col_indexer] = value instead\n",
      "\n",
      "See the caveats in the documentation: https://pandas.pydata.org/pandas-docs/stable/user_guide/indexing.html#returning-a-view-versus-a-copy\n",
      "  tracker_results['proportion_elmo'] = tracker_results['fixation_durations_elmo'] / tracker_results['fixation_durations']\n",
      "C:\\Users\\haohu\\AppData\\Local\\Temp\\ipykernel_22136\\3360242308.py:8: SettingWithCopyWarning: \n",
      "A value is trying to be set on a copy of a slice from a DataFrame.\n",
      "Try using .loc[row_indexer,col_indexer] = value instead\n",
      "\n",
      "See the caveats in the documentation: https://pandas.pydata.org/pandas-docs/stable/user_guide/indexing.html#returning-a-view-versus-a-copy\n",
      "  tracker_results['fixation_counts_elmo'] = np.where(tracker_results['fixation_counts_elmo'] == 0, 1, tracker_results['fixation_counts_elmo'])\n",
      "C:\\Users\\haohu\\AppData\\Local\\Temp\\ipykernel_22136\\3360242308.py:10: SettingWithCopyWarning: \n",
      "A value is trying to be set on a copy of a slice from a DataFrame.\n",
      "Try using .loc[row_indexer,col_indexer] = value instead\n",
      "\n",
      "See the caveats in the documentation: https://pandas.pydata.org/pandas-docs/stable/user_guide/indexing.html#returning-a-view-versus-a-copy\n",
      "  tracker_results['probability_elmo'] = tracker_results['fixation_counts_elmo'] / tracker_results['fixation_counts']\n",
      "C:\\Users\\haohu\\AppData\\Local\\Temp\\ipykernel_22136\\3360242308.py:13: SettingWithCopyWarning: \n",
      "A value is trying to be set on a copy of a slice from a DataFrame.\n",
      "Try using .loc[row_indexer,col_indexer] = value instead\n",
      "\n",
      "See the caveats in the documentation: https://pandas.pydata.org/pandas-docs/stable/user_guide/indexing.html#returning-a-view-versus-a-copy\n",
      "  tracker_results['proportion_elmo'] = tracker_results['fixation_durations_elmo'] / tracker_results['fixation_durations']\n"
     ]
    }
   ],
   "source": [
    "import pandas as pd\n",
    "import numpy as np\n",
    "\n",
    "def get_spss_global_data(tracker_results, condition):\n",
    "    # remove rows that have no fixations in computer screen and elmo (0 in all)\n",
    "    tracker_results = tracker_results[(tracker_results['fixation_durations'] >0)]\n",
    "    # if no Elmo fixation count and yes computer fixation count, then add 1 to Elmo fixation count (to avoid division by zero)\n",
    "    tracker_results['fixation_counts_elmo'] = np.where(tracker_results['fixation_counts_elmo'] == 0, 1, tracker_results['fixation_counts_elmo'])\n",
    "    # probability\n",
    "    tracker_results['probability_elmo'] = tracker_results['fixation_counts_elmo'] / tracker_results['fixation_counts']\n",
    "    # if no Elmo fixation duration and yes computer fixation duration, proportion is 0 (no fixation in Elmo)\n",
    "    # proportion\n",
    "    tracker_results['proportion_elmo'] = tracker_results['fixation_durations_elmo'] / tracker_results['fixation_durations']\n",
    "    global_results = pd.DataFrame()\n",
    "\n",
    "    global_results['ID'] = tracker_results['ID']\n",
    "    global_results['fixation_duration'] = tracker_results['fixation_durations']\n",
    "    global_results['fixation_duration_elmo'] = tracker_results['fixation_durations_elmo']\n",
    "    global_results['fixation_count'] = tracker_results['fixation_counts']\n",
    "    global_results['fixation_count_elmo'] = tracker_results['fixation_counts_elmo']\n",
    "    global_results['probability_elmo'] = tracker_results['probability_elmo']\n",
    "    global_results['proportion_elmo'] = tracker_results['proportion_elmo']\n",
    "    global_results['task'] = tracker_results['task']\n",
    "    global_results['XAI_value'] = tracker_results['XAI_value']\n",
    "    \n",
    "    if condition == 'overreliance':\n",
    "        global_results['overreliance'] = tracker_results['overreliance']\n",
    "    elif condition == 'underreliance':\n",
    "        global_results['underreliance'] = tracker_results['underreliance']\n",
    "    elif condition == 'reliance':\n",
    "        global_results['reliance'] = tracker_results['reliance']\n",
    "    elif condition == 'matching_decision':\n",
    "        global_results['matching_decision'] = tracker_results['matching_decision']\n",
    "    return global_results\n",
    "\n",
    "overreliance = pd.read_csv('over_reliance_intervals.csv')\n",
    "underreliance = pd.read_csv('under_reliance_intervals.csv')\n",
    "reliance = pd.read_csv('reliance_intervals.csv')\n",
    "matching_decision = pd.read_csv('matching_intervals.csv')\n",
    "\n",
    "\n",
    "overreliance_global = get_spss_global_data(overreliance, 'overreliance')\n",
    "overreliance_global.to_csv('over_reliance_global_results.csv', index=False)\n",
    "\n",
    "underreliance_global = get_spss_global_data(underreliance, 'underreliance')\n",
    "underreliance_global.to_csv('under_reliance_global_results.csv', index=False)\n",
    "\n",
    "reliance_global = get_spss_global_data(reliance, 'reliance')\n",
    "reliance_global.to_csv('reliance_global_results.csv', index=False)\n",
    "\n",
    "matching_decision_global = get_spss_global_data(matching_decision, 'matching_decision')\n",
    "matching_decision_global.to_csv('matching_decision_global_results.csv', index=False)\n",
    "\n",
    "global_results = pd.concat([overreliance, underreliance, reliance, matching_decision])\n",
    "global_results.to_csv('global_interval_results.csv', index=False)\n",
    "\n",
    "global_results = pd.concat([overreliance_global, underreliance_global, reliance_global, matching_decision_global])\n",
    "# global_results.to_csv('after_explanation_fixation_decision_groups_results.csv', index=False)\n",
    "\n",
    "global_results.to_csv('global_fixation_decision_groups_results.csv', index=False)\n"
   ]
  }
 ],
 "metadata": {
  "kernelspec": {
   "display_name": "Python 3",
   "language": "python",
   "name": "python3"
  },
  "language_info": {
   "codemirror_mode": {
    "name": "ipython",
    "version": 3
   },
   "file_extension": ".py",
   "mimetype": "text/x-python",
   "name": "python",
   "nbconvert_exporter": "python",
   "pygments_lexer": "ipython3",
   "version": "3.10.11"
  }
 },
 "nbformat": 4,
 "nbformat_minor": 2
}
